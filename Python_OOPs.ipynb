{
  "nbformat": 4,
  "nbformat_minor": 0,
  "metadata": {
    "colab": {
      "provenance": []
    },
    "kernelspec": {
      "name": "python3",
      "display_name": "Python 3"
    },
    "language_info": {
      "name": "python"
    }
  },
  "cells": [
    {
      "cell_type": "markdown",
      "source": [
        "# **Python OOPs**"
      ],
      "metadata": {
        "id": "ow-0IFB1ND7t"
      }
    },
    {
      "cell_type": "markdown",
      "source": [
        "1. What is Object-Oriented Programming (OOP)?\n",
        "\n",
        "   -  OOP is a programming paradigm based on the concept of \"objects\" which contain both data (attributes) and functions (methods). It helps in organizing code using real-world models. The four main pillars are:\n",
        "\n",
        "     -  Encapsulation\n",
        "\n",
        "     - Abstraction\n",
        "\n",
        "      -  Inheritance\n",
        "\n",
        "      - Polymorphism\n",
        "2.  What is a class in OOP?\n",
        "   - A class is a blueprint for creating objects. It defines the attributes and methods that its objects will have.\n",
        "     -  Example:   \n",
        "     class Car:\n",
        "\n",
        "     def __init__(self, brand):\n",
        "\n",
        "        self.brand = brand\n",
        "3. What is an object in OOP?\n",
        "   -  An object is an instance of a class. It represents a specific example of a class with actual values.\n",
        "\n",
        "     -  Example:\n",
        "\n",
        "     car1 = Car(\"Toyota\")\n",
        "\n",
        "4. What is the difference between abstraction and encapsulation?\n",
        "   - Abstraction hides complexity by exposing only relevant features (e.g., methods).\n",
        "\n",
        "   - Encapsulation hides internal data by restricting access through access modifiers.\n",
        "\n",
        "      - Abstraction = Hiding implementation\n",
        "\n",
        "      - Encapsulation = Hiding data\n",
        "\n",
        "5. What are dunder methods in Python?\n",
        "  - Dunder methods (short for \"double underscore\", like __init__, __str__, __add__) are special methods used to define behavior for built-in operations.\n",
        "  \n",
        "     (e.g., constructors, printing, operator overloading).\n",
        "\n",
        "6. Explain the concept of inheritance in OOP.\n",
        "\n",
        "   -  Inheritance allows a class (child) to inherit attributes and methods from another class (parent), promoting code reuse.\n",
        "\n",
        "   Example:\n",
        "   class Vehicle:\n",
        "\n",
        "  def start(self): print(\"Starting\")\n",
        "\n",
        "  class Car(Vehicle):\n",
        "\n",
        "   pass\n",
        "7. What is polymorphism in OOP?\n",
        "  -  Polymorphism allows the same interface or method to behave differently for different objects or contexts.\n",
        "\n",
        "      -  Example:\n",
        "\n",
        "        class Dog:\n",
        "\n",
        "            def speak(self): return \"Bark\"\n",
        "\n",
        "        class Cat:\n",
        "\n",
        "        def speak(self): return \"Meow\"\n",
        "\n",
        "8.  How is encapsulation achieved in Python?\n",
        "    -  Encapsulation is achieved using private variables (prefix _ or __) and providing getter/setter methods.\n",
        "\n",
        "      -  Example:\n",
        "\n",
        "         class Person:\n",
        "\n",
        "          def __init__(self):\n",
        "\n",
        "        self.__age = 0\n",
        "\n",
        "        def set_age(self, age): self.__age = age\n",
        "\n",
        "          \n",
        "9. What is a constructor in Python?\n",
        "  -  A constructor is a special method named __init__ that gets called automatically when a new object is created. It initializes the object’s attributes.\n",
        "10. What are class and static methods in Python?\n",
        "  -  Class Method: Works with the class itself. Uses @classmethod and takes cls as the first argument.\n",
        "\n",
        "    - Static Method: Independent of class or instance. Uses @staticmethod.\n",
        "\n",
        "     - Example:\n",
        "\n",
        "       class Test:\n",
        "\n",
        "       @classmethod\n",
        "\n",
        "       def cls_method(cls): pass\n",
        "    \n",
        "       @staticmethod\n",
        "\n",
        "       def stat_method(): pass\n",
        "\n",
        "11.   What is method overloading in Python?\n",
        "    - Python doesn’t support traditional method overloading. However, default arguments or *args/**kwargs can be used to mimic it.\n",
        "        -  Example:\n",
        "\n",
        "             def greet(name=None):\n",
        "\n",
        "          if name:\n",
        "\n",
        "           print(\"Hello\", name)\n",
        "\n",
        "           else:\n",
        "\n",
        "           print(\"Hello\")\n",
        "12. What is method overriding in OOP?\n",
        "   - Method overriding occurs when a child class redefines a method of its parent class to provide specific behavior.\n",
        "      -  Example:\n",
        "\n",
        "           class Parent:\n",
        "\n",
        "            def show(self): print(\"Parent\")\n",
        "\n",
        "           class Child(Parent):\n",
        "\n",
        "            def show(self): print(\"Child\")\n",
        "13. What is a property decorator in Python?\n",
        "    -  The @property decorator allows a method to be accessed like an attribute while still enabling logic inside the method.\n",
        "      -  Example:\n",
        "\n",
        "          class Circle:\n",
        "\n",
        "          def __init__(self, radius):\n",
        "\n",
        "          self._radius = radius\n",
        "\n",
        "           @property\n",
        "\n",
        "           def area(self):\n",
        "\n",
        "           return 3.14 * self._radius ** 2\n",
        "14. Why is polymorphism important in OOP?\n",
        "   -  Polymorphism allows flexibility and extensibility in code. It enables writing generic code that can work with different data types or class implementations without changing logic.\n",
        "15. What is an abstract class in Python?\n",
        "\n",
        "   -  An abstract class contains one or more abstract methods (declared but not implemented). It can’t be instantiated. Used to define interfaces.\n",
        "     \n",
        "       -  Example:\n",
        "           \n",
        "           from abc import ABC, abstractmethod\n",
        "\n",
        "           class Shape(ABC):\n",
        "\n",
        "           @abstractmethod\n",
        "\n",
        "           def area(self): pass\n",
        "16. What are the advantages of OOP?\n",
        "   -  Modularity – code is divided into objects.\n",
        "\n",
        "   - Reusability – use inheritance to reuse code.\n",
        "\n",
        "    -  Scalability – easier to manage large applications.\n",
        "\n",
        "   - Maintainability – changes in one class don’t affect others directly.\n",
        "\n",
        "    - Security – through encapsulation.\n",
        "17. What is the difference between a class variable and an instance variable?\n",
        "  -  Feature: Class Variable\n",
        "  - Scope: Shared by all instances\n",
        "  - Defined: Inside the class, outside any method\n",
        "  - Use Case: Common values (e.g., count of objects)\n",
        "\n",
        " - Feature: Instance Variable\n",
        " -  Scope: \tUnique to each instance\n",
        " - Defined: Inside __init__ or other methods using self\n",
        " - Use Case: Individual object data\n",
        "18. What is multiple inheritance in Python?\n",
        "  -  Multiple inheritance allows a class to inherit from more than one parent class.\n",
        "     -  Example:\n",
        "\n",
        "       class A:\n",
        "\n",
        "      def show(self): print(\"A\")\n",
        "\n",
        "     class B:\n",
        "\n",
        "     def display(self): print(\"B\")\n",
        "\n",
        "     class C(A, B):\n",
        "\n",
        "     pass\n",
        "\n",
        "     obj = C()\n",
        "\n",
        "     obj.show()\n",
        "\n",
        "     obj.display()\n",
        "\n",
        "     Python handles method resolution using MRO (Method Resolution Order).\n",
        "19. Explain the purpose of ‘’__str__’ and ‘__repr__’ ‘ methods in Python.\n",
        "\n",
        "    - __str__: Returns a user-friendly string (for print()).\n",
        "\n",
        "    -  __repr__: Returns an unambiguous representation (for debugging or repr()).\n",
        "\n",
        "      -  Example:\n",
        "\n",
        "            class Person:\n",
        "\n",
        "            def __str__(self):\n",
        "\n",
        "            return \"Person for display\"\n",
        "\n",
        "            def __repr__(self):\n",
        "\n",
        "           return \"Person('repr mode')\"\n",
        "20. What is the significance of the ‘super()’ function in Python?\n",
        "     - super() allows you to call methods from the parent class. It's especially useful in multiple inheritance or when overriding methods.\n",
        "\n",
        "       -  Example:\n",
        "                 \n",
        "           class Parent:\n",
        "\n",
        "            def greet(self): print(\"Hello from Parent\")\n",
        "\n",
        "          class Child(Parent):\n",
        "\n",
        "            def greet(self):\n",
        "\n",
        "          super().greet()\n",
        "\n",
        "           print(\"Hello from Child\")\n",
        "\n",
        "\n",
        "21. What is the significance of the __del__ method in Python?\n",
        "    -  __del__ is a destructor method, called when an object is about to be destroyed (garbage collected).\n",
        "      -  Example:\n",
        "\n",
        "          class FileHandler:\n",
        "\n",
        "            def __del__(self):\n",
        "\n",
        "           print(\"Object deleted\")\n",
        "22. What is the difference between @staticmethod and @classmethod in Python?\n",
        "   \n",
        "   -  Feature: @staticmethod\n",
        "   - Accesses class (cls): NA\n",
        "   - Accesses instance (self): NA\n",
        "   - Use Case: Utility functions\n",
        "\n",
        "   - Feature: @classmethod\n",
        "   - Accesses class (cls): yes\n",
        "   - Accesses instance (self): NA\n",
        "   - Use Case: \tFactory methods, class-level operations\n",
        "\n",
        "     - Example:\n",
        "\n",
        "       class Example:\n",
        "\n",
        "        @staticmethod\n",
        "\n",
        "       def utility(): pass\n",
        "\n",
        "       @classmethod\n",
        "\n",
        "       def factory(cls): pass\n",
        "\n",
        "23. How does polymorphism work in Python with inheritance?\n",
        "  -  In inheritance, polymorphism allows child classes to provide different implementations of methods defined in the parent class.\n",
        "     -  Example:\n",
        "\n",
        "         class Animal:\n",
        "\n",
        "         def speak(self): pass\n",
        "\n",
        "        class Dog(Animal):\n",
        "\n",
        "         def speak(self): return \"Bark\"\n",
        "\n",
        "          class Cat(Animal):\n",
        "\n",
        "         def speak(self): return \"Meow\"\n",
        "\n",
        "        def animal_sound(animal):\n",
        "\n",
        "         print(animal.speak())\n",
        "24. What is method chaining in Python OOP?\n",
        "    - Method chaining is calling multiple methods on the same object in a single line. This is achieved by returning self from each method.\n",
        "\n",
        "      -  Example:\n",
        "\n",
        "         class Builder:\n",
        "\n",
        "         def step1(self):\n",
        "\n",
        "        print(\"Step 1\")\n",
        "\n",
        "        return self\n",
        "\n",
        "       def step2(self):\n",
        "\n",
        "        print(\"Step 2\")\n",
        "\n",
        "        return self\n",
        "\n",
        "          b = Builder()\n",
        "\n",
        "          b.step1().step2()\n",
        "\n",
        "25. What is the purpose of the __call__ method in Python?\n",
        "    -  The __call__ method allows an object to be called like a function.\n",
        "\n",
        "      -  Example:\n",
        "\n",
        "         class Adder:\n",
        "\n",
        "         def __call__(self, a, b):\n",
        "\n",
        "          return a + b\n",
        "\n",
        "         add = Adder()\n",
        "\n",
        "         print(add(3, 5))  \n",
        "\n",
        "     This is useful in creating callable objects or function-like classes (e.g., decorators, custom logic classes).\n"
      ],
      "metadata": {
        "id": "WwWE2GGdNmVK"
      }
    },
    {
      "cell_type": "markdown",
      "source": [
        "# **Practical Questions**"
      ],
      "metadata": {
        "id": "8O24uIj3bgbG"
      }
    },
    {
      "cell_type": "markdown",
      "source": [
        "1. Create a parent class Animal with a method speak() that prints a generic message. Create a child class Dog\n",
        "that overrides the speak() method to print \"Bark!\"."
      ],
      "metadata": {
        "id": "XwetPiUbbpEz"
      }
    },
    {
      "cell_type": "code",
      "source": [
        "class Animal:\n",
        "    def speak(self):\n",
        "        print(\"Animal speaks in a generic way.\")\n",
        "\n",
        "class Dog(Animal):\n",
        "    def speak(self):\n",
        "        print(\"Bark!\")\n",
        "\n",
        "# Test\n",
        "a = Animal()\n",
        "a.speak()\n",
        "\n",
        "d = Dog()\n",
        "d.speak()\n"
      ],
      "metadata": {
        "colab": {
          "base_uri": "https://localhost:8080/"
        },
        "id": "XcYBqwUXcFPi",
        "outputId": "7b67d764-1a1b-4033-818e-06dcf494172a"
      },
      "execution_count": 1,
      "outputs": [
        {
          "output_type": "stream",
          "name": "stdout",
          "text": [
            "Animal speaks in a generic way.\n",
            "Bark!\n"
          ]
        }
      ]
    },
    {
      "cell_type": "markdown",
      "source": [
        " 2. Write a program to create an abstract class Shape with a method area(). Derive classes Circle and Rectangle\n",
        "from it and implement the area() method in both."
      ],
      "metadata": {
        "id": "mg9ThjY8cLUX"
      }
    },
    {
      "cell_type": "code",
      "source": [
        "from abc import ABC, abstractmethod\n",
        "import math\n",
        "\n",
        "class Shape(ABC):\n",
        "    @abstractmethod\n",
        "    def area(self):\n",
        "        pass\n",
        "\n",
        "class Circle(Shape):\n",
        "    def __init__(self, radius):\n",
        "        self.radius = radius\n",
        "\n",
        "    def area(self):\n",
        "        return math.pi * self.radius ** 2\n",
        "\n",
        "class Rectangle(Shape):\n",
        "    def __init__(self, width, height):\n",
        "        self.width = width\n",
        "        self.height = height\n",
        "\n",
        "    def area(self):\n",
        "        return self.width * self.height\n",
        "\n",
        "c = Circle(5)\n",
        "r = Rectangle(4, 6)\n",
        "print(c.area())\n",
        "print(r.area())\n"
      ],
      "metadata": {
        "colab": {
          "base_uri": "https://localhost:8080/"
        },
        "id": "4aVS1cIxcTof",
        "outputId": "8a6a11ad-3fd9-4e65-9a6f-905cc609b182"
      },
      "execution_count": 2,
      "outputs": [
        {
          "output_type": "stream",
          "name": "stdout",
          "text": [
            "78.53981633974483\n",
            "24\n"
          ]
        }
      ]
    },
    {
      "cell_type": "markdown",
      "source": [
        "3.  Implement a multi-level inheritance scenario where a class Vehicle has an attribute type. Derive a class Car\n",
        "and further derive a class ElectricCar that adds a battery attribute."
      ],
      "metadata": {
        "id": "Iq0l5bd0cdli"
      }
    },
    {
      "cell_type": "code",
      "source": [
        "class Vehicle:\n",
        "    def __init__(self, type):\n",
        "        self.type = type\n",
        "\n",
        "class Car(Vehicle):\n",
        "    def __init__(self, type, brand):\n",
        "        super().__init__(type)\n",
        "        self.brand = brand\n",
        "\n",
        "class ElectricCar(Car):\n",
        "    def __init__(self, type, brand, battery):\n",
        "        super().__init__(type, brand)\n",
        "        self.battery = battery\n",
        "\n",
        "e = ElectricCar(\"Electric\", \"Tesla\", \"100 kWh\")\n",
        "print(e.type, e.brand, e.battery)\n"
      ],
      "metadata": {
        "colab": {
          "base_uri": "https://localhost:8080/"
        },
        "id": "kfe_QcjqcheK",
        "outputId": "d035880f-fa5b-40fe-c37a-dbc9c8cd6b63"
      },
      "execution_count": 3,
      "outputs": [
        {
          "output_type": "stream",
          "name": "stdout",
          "text": [
            "Electric Tesla 100 kWh\n"
          ]
        }
      ]
    },
    {
      "cell_type": "markdown",
      "source": [
        "4.Demonstrate polymorphism by creating a base class Bird with a method fly(). Create two derived classes\n",
        "Sparrow and Penguin that override the fly() method.\n"
      ],
      "metadata": {
        "id": "ttggthf-dxqg"
      }
    },
    {
      "cell_type": "code",
      "source": [
        "class Bird:\n",
        "    def fly(self):\n",
        "        print(\"Bird is flying\")\n",
        "\n",
        "class Sparrow(Bird):\n",
        "    def fly(self):\n",
        "        print(\"Sparrow can fly high\")\n",
        "\n",
        "class Penguin(Bird):\n",
        "    def fly(self):\n",
        "        print(\"Penguins cannot fly\")\n",
        "\n",
        "birds = [Sparrow(), Penguin()]\n",
        "for bird in birds:\n",
        "    bird.fly()\n"
      ],
      "metadata": {
        "colab": {
          "base_uri": "https://localhost:8080/"
        },
        "id": "lnZvy8snd2T2",
        "outputId": "1f204b9c-2efd-4e80-c6c4-25acf4f08b82"
      },
      "execution_count": 4,
      "outputs": [
        {
          "output_type": "stream",
          "name": "stdout",
          "text": [
            "Sparrow can fly high\n",
            "Penguins cannot fly\n"
          ]
        }
      ]
    },
    {
      "cell_type": "markdown",
      "source": [
        "5. Write a program to demonstrate encapsulation by creating a class BankAccount with private attributes\n",
        "balance and methods to deposit, withdraw, and check balance."
      ],
      "metadata": {
        "id": "kpWUq3FIeIeP"
      }
    },
    {
      "cell_type": "code",
      "source": [
        "class BankAccount:\n",
        "    def __init__(self, balance=0):\n",
        "        self.__balance = balance\n",
        "\n",
        "    def deposit(self, amount):\n",
        "        if amount > 0:\n",
        "            self.__balance += amount\n",
        "\n",
        "    def withdraw(self, amount):\n",
        "        if 0 < amount <= self.__balance:\n",
        "            self.__balance -= amount\n",
        "\n",
        "    def get_balance(self):\n",
        "        return self.__balance\n",
        "\n",
        "acc = BankAccount()\n",
        "acc.deposit(500)\n",
        "acc.withdraw(100)\n",
        "print(acc.get_balance())\n"
      ],
      "metadata": {
        "colab": {
          "base_uri": "https://localhost:8080/"
        },
        "id": "6gOXEpkMeM1D",
        "outputId": "8d61cbdb-87da-4739-dbf9-e76343f4e649"
      },
      "execution_count": 5,
      "outputs": [
        {
          "output_type": "stream",
          "name": "stdout",
          "text": [
            "400\n"
          ]
        }
      ]
    },
    {
      "cell_type": "markdown",
      "source": [
        "6. Demonstrate runtime polymorphism using a method play() in a base class Instrument. Derive classes Guitar\n",
        "and Piano that implement their own version of play()."
      ],
      "metadata": {
        "id": "QNZ0mpkueSE7"
      }
    },
    {
      "cell_type": "code",
      "source": [
        "class Instrument:\n",
        "    def play(self):\n",
        "        print(\"Instrument is playing\")\n",
        "\n",
        "class Guitar(Instrument):\n",
        "    def play(self):\n",
        "        print(\"Strumming the guitar\")\n",
        "\n",
        "class Piano(Instrument):\n",
        "    def play(self):\n",
        "        print(\"Playing the piano\")\n",
        "\n",
        "\n",
        "instruments = [Guitar(), Piano()]\n",
        "for instrument in instruments:\n",
        "    instrument.play()\n"
      ],
      "metadata": {
        "colab": {
          "base_uri": "https://localhost:8080/"
        },
        "id": "Te6v0F6ueU7J",
        "outputId": "835caf62-6b30-4279-f5ea-643c0d7d9219"
      },
      "execution_count": 6,
      "outputs": [
        {
          "output_type": "stream",
          "name": "stdout",
          "text": [
            "Strumming the guitar\n",
            "Playing the piano\n"
          ]
        }
      ]
    },
    {
      "cell_type": "markdown",
      "source": [
        "7. Create a class MathOperations with a class method add_numbers() to add two numbers and a static\n",
        "method subtract_numbers() to subtract two numbers."
      ],
      "metadata": {
        "id": "XUbZlyEleZw9"
      }
    },
    {
      "cell_type": "code",
      "source": [
        "class MathOperations:\n",
        "    @classmethod\n",
        "    def add_numbers(cls, a, b):\n",
        "        return a + b\n",
        "\n",
        "    @staticmethod\n",
        "    def subtract_numbers(a, b):\n",
        "        return a - b\n",
        "\n",
        "\n",
        "print(MathOperations.add_numbers(5, 3))\n",
        "print(MathOperations.subtract_numbers(10, 4))\n"
      ],
      "metadata": {
        "colab": {
          "base_uri": "https://localhost:8080/"
        },
        "id": "N6mrgxkQea0p",
        "outputId": "3594e16e-1eb9-4a8b-f9c5-02d1dcfb4a1e"
      },
      "execution_count": 7,
      "outputs": [
        {
          "output_type": "stream",
          "name": "stdout",
          "text": [
            "8\n",
            "6\n"
          ]
        }
      ]
    },
    {
      "cell_type": "markdown",
      "source": [
        " 8. Implement a class Person with a class method to count the total number of persons created."
      ],
      "metadata": {
        "id": "UFU59UXEehHJ"
      }
    },
    {
      "cell_type": "code",
      "source": [
        "class Person:\n",
        "    count = 0\n",
        "\n",
        "    def __init__(self):\n",
        "        Person.count += 1\n",
        "\n",
        "    @classmethod\n",
        "    def total_persons(cls):\n",
        "        return cls.count\n",
        "\n",
        "p1 = Person()\n",
        "p2 = Person()\n",
        "print(Person.total_persons())\n"
      ],
      "metadata": {
        "colab": {
          "base_uri": "https://localhost:8080/"
        },
        "id": "UMpKNjjxemLA",
        "outputId": "6369640e-5f3d-4ddc-a300-dbda1108ccfb"
      },
      "execution_count": 8,
      "outputs": [
        {
          "output_type": "stream",
          "name": "stdout",
          "text": [
            "2\n"
          ]
        }
      ]
    },
    {
      "cell_type": "markdown",
      "source": [
        "9. Write a class Fraction with attributes numerator and denominator. Override the str method to display the\n",
        "fraction as \"numerator/denominator\"."
      ],
      "metadata": {
        "id": "12Wmxgb9eqPm"
      }
    },
    {
      "cell_type": "code",
      "source": [
        "class Fraction:\n",
        "    def __init__(self, numerator, denominator):\n",
        "        self.numerator = numerator\n",
        "        self.denominator = denominator\n",
        "\n",
        "    def __str__(self):\n",
        "        return f\"{self.numerator}/{self.denominator}\"\n",
        "\n",
        "\n",
        "f = Fraction(3, 4)\n",
        "print(f)\n"
      ],
      "metadata": {
        "colab": {
          "base_uri": "https://localhost:8080/"
        },
        "id": "HAFB_gSBetpK",
        "outputId": "d5323ca2-5f53-4422-e089-f79b9ade3198"
      },
      "execution_count": 9,
      "outputs": [
        {
          "output_type": "stream",
          "name": "stdout",
          "text": [
            "3/4\n"
          ]
        }
      ]
    },
    {
      "cell_type": "markdown",
      "source": [
        "10. Demonstrate operator overloading by creating a class Vector and overriding the add method to add two\n",
        "vectors.\n"
      ],
      "metadata": {
        "id": "CuJW7bXpeymV"
      }
    },
    {
      "cell_type": "code",
      "source": [
        "class Vector:\n",
        "    def __init__(self, x, y):\n",
        "        self.x = x\n",
        "        self.y = y\n",
        "\n",
        "    def __add__(self, other):\n",
        "        return Vector(self.x + other.x, self.y + other.y)\n",
        "\n",
        "    def __str__(self):\n",
        "        return f\"Vector({self.x}, {self.y})\"\n",
        "\n",
        "v1 = Vector(1, 2)\n",
        "v2 = Vector(3, 4)\n",
        "print(v1 + v2)\n"
      ],
      "metadata": {
        "colab": {
          "base_uri": "https://localhost:8080/"
        },
        "id": "nykSmnZTe9IH",
        "outputId": "cc127dd8-1004-43d6-a5c8-0f258d245fdf"
      },
      "execution_count": 10,
      "outputs": [
        {
          "output_type": "stream",
          "name": "stdout",
          "text": [
            "Vector(4, 6)\n"
          ]
        }
      ]
    },
    {
      "cell_type": "markdown",
      "source": [
        "11. Create a class Person with attributes name and age. Add a method greet() that prints \"Hello, my name is\n",
        "{name} and I am {age} years old.\""
      ],
      "metadata": {
        "id": "3-wCF5JjfE2x"
      }
    },
    {
      "cell_type": "code",
      "source": [
        "class Person:\n",
        "    def __init__(self, name, age):\n",
        "        self.name = name\n",
        "        self.age = age\n",
        "\n",
        "    def greet(self):\n",
        "        print(f\"Hello, my name is {self.name} and I am {self.age} years old.\")\n",
        "\n",
        "# Test\n",
        "p = Person(\"Alice\", 30)\n",
        "p.greet()\n"
      ],
      "metadata": {
        "colab": {
          "base_uri": "https://localhost:8080/"
        },
        "id": "xazkYr7LfJLf",
        "outputId": "1b286277-2f47-4f74-9639-481a47f23a6f"
      },
      "execution_count": 11,
      "outputs": [
        {
          "output_type": "stream",
          "name": "stdout",
          "text": [
            "Hello, my name is Alice and I am 30 years old.\n"
          ]
        }
      ]
    },
    {
      "cell_type": "markdown",
      "source": [
        "12. Implement a class Student with attributes name and grades. Create a method average_grade() to compute\n",
        "the average of the grades."
      ],
      "metadata": {
        "id": "8mZbZjkEfPKc"
      }
    },
    {
      "cell_type": "code",
      "source": [
        "class Student:\n",
        "    def __init__(self, name, grades):\n",
        "        self.name = name\n",
        "        self.grades = grades\n",
        "\n",
        "    def average_grade(self):\n",
        "        return sum(self.grades) / len(self.grades)\n",
        "\n",
        "s = Student(\"Bob\", [85, 90, 78])\n",
        "print(s.average_grade())\n"
      ],
      "metadata": {
        "colab": {
          "base_uri": "https://localhost:8080/"
        },
        "id": "8cPmWK-7fSA7",
        "outputId": "50fa16c2-d287-445a-fbe6-8bf5e6ba40a0"
      },
      "execution_count": 12,
      "outputs": [
        {
          "output_type": "stream",
          "name": "stdout",
          "text": [
            "84.33333333333333\n"
          ]
        }
      ]
    },
    {
      "cell_type": "markdown",
      "source": [
        "13. 13. Create a class Rectangle with methods set_dimensions() to set the dimensions and area() to calculate the\n",
        "area."
      ],
      "metadata": {
        "id": "6deVqPDMfWiL"
      }
    },
    {
      "cell_type": "code",
      "source": [
        "class Rectangle:\n",
        "    def __init__(self):\n",
        "        self.length = 0\n",
        "        self.width = 0\n",
        "\n",
        "    def set_dimensions(self, length, width):\n",
        "        self.length = length\n",
        "        self.width = width\n",
        "\n",
        "    def area(self):\n",
        "        return self.length * self.width\n",
        "\n",
        "\n",
        "r = Rectangle()\n",
        "r.set_dimensions(5, 3)\n",
        "print(r.area())\n"
      ],
      "metadata": {
        "colab": {
          "base_uri": "https://localhost:8080/"
        },
        "id": "jyfah3XyfaZA",
        "outputId": "d396a5e1-d0ed-400f-81b4-4f5fb031938d"
      },
      "execution_count": 13,
      "outputs": [
        {
          "output_type": "stream",
          "name": "stdout",
          "text": [
            "15\n"
          ]
        }
      ]
    },
    {
      "cell_type": "markdown",
      "source": [
        "14. Create a class Employee with a method calculate_salary() that computes the salary based on hours worked\n",
        "and hourly rate. Create a derived class Manager that adds a bonus to the salary."
      ],
      "metadata": {
        "id": "1_BumyzQfe7y"
      }
    },
    {
      "cell_type": "code",
      "source": [
        "class Employee:\n",
        "    def calculate_salary(self, hours_worked, hourly_rate):\n",
        "        return hours_worked * hourly_rate\n",
        "\n",
        "class Manager(Employee):\n",
        "    def calculate_salary(self, hours_worked, hourly_rate, bonus=0):\n",
        "        base_salary = super().calculate_salary(hours_worked, hourly_rate)\n",
        "        return base_salary + bonus\n",
        "\n",
        "\n",
        "m = Manager()\n",
        "print(m.calculate_salary(40, 50, 500))\n"
      ],
      "metadata": {
        "colab": {
          "base_uri": "https://localhost:8080/"
        },
        "id": "5SkA73wOfh9f",
        "outputId": "90c2aaf7-00ac-41a5-fc60-f3fdc435ab79"
      },
      "execution_count": 14,
      "outputs": [
        {
          "output_type": "stream",
          "name": "stdout",
          "text": [
            "2500\n"
          ]
        }
      ]
    },
    {
      "cell_type": "markdown",
      "source": [
        "15. Create a class Product with attributes name, price, and quantity. Implement a method total_price() that\n",
        "calculates the total price of the product."
      ],
      "metadata": {
        "id": "6AHGGtapfmXJ"
      }
    },
    {
      "cell_type": "code",
      "source": [
        "class Product:\n",
        "    def __init__(self, name, price, quantity):\n",
        "        self.name = name\n",
        "        self.price = price\n",
        "        self.quantity = quantity\n",
        "\n",
        "    def total_price(self):\n",
        "        return self.price * self.quantity\n",
        "\n",
        "\n",
        "p = Product(\"Laptop\", 60000, 2)\n",
        "print(p.total_price())\n"
      ],
      "metadata": {
        "colab": {
          "base_uri": "https://localhost:8080/"
        },
        "id": "KuPn_cY6frty",
        "outputId": "b9f9bc7d-4fbc-4422-da73-553b555d6d83"
      },
      "execution_count": 15,
      "outputs": [
        {
          "output_type": "stream",
          "name": "stdout",
          "text": [
            "120000\n"
          ]
        }
      ]
    },
    {
      "cell_type": "markdown",
      "source": [
        "16. Create a class Animal with an abstract method sound(). Create two derived classes Cow and Sheep that\n",
        "implement the sound() method."
      ],
      "metadata": {
        "id": "ZAv2g5tyfv4X"
      }
    },
    {
      "cell_type": "code",
      "source": [
        "from abc import ABC, abstractmethod\n",
        "\n",
        "class Animal(ABC):\n",
        "    @abstractmethod\n",
        "    def sound(self):\n",
        "        pass\n",
        "\n",
        "class Cow(Animal):\n",
        "    def sound(self):\n",
        "        print(\"Moo\")\n",
        "\n",
        "class Sheep(Animal):\n",
        "    def sound(self):\n",
        "        print(\"Baa\")\n",
        "\n",
        "\n",
        "c = Cow()\n",
        "s = Sheep()\n",
        "c.sound()\n",
        "s.sound()\n"
      ],
      "metadata": {
        "colab": {
          "base_uri": "https://localhost:8080/"
        },
        "id": "sCaufxwLfyAB",
        "outputId": "7524b60f-9877-4bf1-c624-e63cdd361776"
      },
      "execution_count": 16,
      "outputs": [
        {
          "output_type": "stream",
          "name": "stdout",
          "text": [
            "Moo\n",
            "Baa\n"
          ]
        }
      ]
    },
    {
      "cell_type": "markdown",
      "source": [
        "17. Create a class Book with attributes title, author, and year_published. Add a method get_book_info() that\n",
        "returns a formatted string with the book's details."
      ],
      "metadata": {
        "id": "hnZITULMf1Wg"
      }
    },
    {
      "cell_type": "code",
      "source": [
        "class Book:\n",
        "    def __init__(self, title, author, year_published):\n",
        "        self.title = title\n",
        "        self.author = author\n",
        "        self.year_published = year_published\n",
        "\n",
        "    def get_book_info(self):\n",
        "        return f\"{self.title} by {self.author}, published in {self.year_published}\"\n",
        "\n",
        "# Test\n",
        "b = Book(\"1984\", \"George Orwell\", 1949)\n",
        "print(b.get_book_info())\n"
      ],
      "metadata": {
        "colab": {
          "base_uri": "https://localhost:8080/"
        },
        "id": "RHBtJ67zf4V4",
        "outputId": "e98c7a5c-a1a4-46df-d7bb-1a6f5c648e52"
      },
      "execution_count": 17,
      "outputs": [
        {
          "output_type": "stream",
          "name": "stdout",
          "text": [
            "1984 by George Orwell, published in 1949\n"
          ]
        }
      ]
    },
    {
      "cell_type": "markdown",
      "source": [
        "18. Create a class House with attributes address and price. Create a derived class Mansion that adds an\n",
        "attribute number_of_rooms."
      ],
      "metadata": {
        "id": "gKcv6LPjf8VQ"
      }
    },
    {
      "cell_type": "code",
      "source": [
        "class House:\n",
        "    def __init__(self, address, price):\n",
        "        self.address = address\n",
        "        self.price = price\n",
        "\n",
        "class Mansion(House):\n",
        "    def __init__(self, address, price, number_of_rooms):\n",
        "        super().__init__(address, price)\n",
        "        self.number_of_rooms = number_of_rooms\n",
        "\n",
        "# Test\n",
        "m = Mansion(\"123 Rich Street\", 5000000, 10)\n",
        "print(m.address, m.price, m.number_of_rooms)\n"
      ],
      "metadata": {
        "colab": {
          "base_uri": "https://localhost:8080/"
        },
        "id": "vlqaYKsnf-9t",
        "outputId": "c906dabc-54d7-479e-c681-8ae2ab8bcf95"
      },
      "execution_count": 18,
      "outputs": [
        {
          "output_type": "stream",
          "name": "stdout",
          "text": [
            "123 Rich Street 5000000 10\n"
          ]
        }
      ]
    }
  ]
}